{
 "cells": [
  {
   "cell_type": "code",
   "execution_count": 1,
   "id": "087e153d",
   "metadata": {},
   "outputs": [],
   "source": [
    "import numpy as np\n",
    "from matplotlib.colors import LinearSegmentedColormap\n",
    "import matplotlib.pyplot as plt\n",
    "import random\n",
    "from collections import defaultdict\n",
    "import matplotlib.patches as patches"
   ]
  },
  {
   "cell_type": "code",
   "execution_count": 2,
   "id": "103b22c5",
   "metadata": {},
   "outputs": [],
   "source": [
    "gridworld = np.array([\n",
    "    ['R', 'R', 'H', 'R', 'R'],\n",
    "    ['R', 'H', 'H', 'R', 'R'],\n",
    "    ['R', 'R', 'H', 'H', 'R'],\n",
    "    ['R', 'H', 'R', 'H', 'R'],\n",
    "    ['R', 'R', 'R', 'R', 'G']\n",
    "])\n",
    "\n",
    "rewards = {\n",
    "\n",
    "    'G': 10,\n",
    "    'H': -10,\n",
    "    'R': -1\n",
    "\n",
    "}"
   ]
  },
  {
   "cell_type": "code",
   "execution_count": 3,
   "id": "781177e3",
   "metadata": {},
   "outputs": [
    {
     "data": {
      "image/png": "[encoded data removed]",
      "text/plain": [
       "<Figure size 400x400 with 1 Axes>"
      ]
     },
     "metadata": {},
     "output_type": "display_data"
    }
   ],
   "source": [
    "fig, ax = plt.subplots(figsize=(4, 4))\n",
    "# Create a color map\n",
    "# Create a color map with lighter colors\n",
    "color_map = {'H': '#FF0000',  # Darker red\n",
    "             'G': '#BAFFC9',  # Light green\n",
    "             'R': '#BAE1FF'}  # Light blue\n",
    "# Iterate through the grid and color cells\n",
    "for (i, j), value in np.ndenumerate(gridworld):\n",
    "    color = color_map[value]\n",
    "    ax.add_patch(plt.Rectangle((j, 4-i), 1, 1, fill=True, color=color))\n",
    "\n",
    "# Set the limits of the plot\n",
    "\n",
    "ax.set_xlim(0, 5)\n",
    "ax.set_ylim(0, 5)\n",
    "# Remove the axes\n",
    "ax.set_axis_off()\n",
    "# Add grid lines\n",
    "ax.grid(which='major', axis='both', linestyle='-', color='gray', linewidth=1)\n",
    "# Add text labels to each cell\n",
    "\n",
    "for (i, j), value in np.ndenumerate(gridworld):\n",
    "    # Use white text for red cells, black for others\n",
    "    text_color = 'white' if value == 'H' else 'black'\n",
    "    ax.text(j + 0.5, 4 - i + 0.5, value, ha='center', va='center', fontsize=20, color=text_color)\n",
    "# Set the title\n",
    "# plt.title('Gridworld Visualization', fontsize=16)\n",
    "# Show the plot\n",
    "plt.tight_layout()\n",
    "plt.show()"
   ]
  },
  {
   "cell_type": "code",
   "execution_count": 4,
   "id": "53ce1ae3",
   "metadata": {},
   "outputs": [],
   "source": [
    "def policy_visualize(policy, gridworld):\n",
    "    fig, ax = plt.subplots(figsize=(5, 5))\n",
    "    # Set the limits of the plot\n",
    "    ax.set_xlim(0, 5)\n",
    "    ax.set_ylim(5, 0)  # Reversed y-axis\n",
    "    # Remove ticks\n",
    "    ax.set_xticks([])\n",
    "    ax.set_yticks([])\n",
    "    # Draw grid lines\n",
    "    for i in range(6):\n",
    "        ax.axhline(y=i, color='gray', linestyle='-', linewidth=0.5)\n",
    "        ax.axvline(x=i, color='gray', linestyle='-', linewidth=0.5)\n",
    "    # Dictionary to map directions to arrow symbols\n",
    "    direction_to_arrow = {\n",
    "        'up': '↑',\n",
    "        'down': '↓',\n",
    "        'left': '←',\n",
    "        'right': '→'\n",
    "    }\n",
    "    # Color mapping\n",
    "    color_map = {'H': 'red', 'R': 'lightblue', 'G': 'lightgreen'}\n",
    "    # Plot arrows and cell coordinates for each cell\n",
    "    for y in range(5):\n",
    "        for x in range(5):\n",
    "            # Color the cell based on gridworld\n",
    "            cell_type = gridworld[y, x]\n",
    "            rect = patches.Rectangle((x, y), 1, 1, facecolor=color_map[cell_type])\n",
    "            ax.add_patch(rect)\n",
    "            # Plot cell coordinates\n",
    "            ax.text(x + 0.1, y + 0.2, f'{y},{x}', ha='left', va='top', fontsize=10)\n",
    "            # Plot arrow if the cell is in the policy and not (4,4)\n",
    "            if (y, x) in policy and (y, x) != (4, 4):\n",
    "                direction = policy[(y, x)]\n",
    "                if direction in direction_to_arrow:\n",
    "                    arrow = direction_to_arrow[direction]\n",
    "                    ax.text(x + 0.5, y + 0.6, arrow, ha='center', va='center', fontsize=8)\n",
    "    # Show the plot\n",
    "    plt.title(\"Policy Visualization with Cell Coordinates\")\n",
    "    plt.tight_layout()\n",
    "    plt.show()"
   ]
  },
  {
   "cell_type": "markdown",
   "id": "c2df83de",
   "metadata": {},
   "source": [
    "### Start cell of an episode"
   ]
  },
  {
   "cell_type": "code",
   "execution_count": 94,
   "id": "e603091e",
   "metadata": {},
   "outputs": [],
   "source": [
    "terminal_state = (4, 4)\n",
    "\n",
    "rows = 5\n",
    "cols = 5\n",
    "\n",
    "# Function to select a random tuple from the grid, excluding the terminal state\n",
    "def select_random_tuple():\n",
    "    while True:\n",
    "        # Generate random row and column indices\n",
    "        row = random.randint(0, rows - 1)\n",
    "        col = random.randint(0, cols - 1)\n",
    "        # Check if the generated tuple is not the terminal state\n",
    "        if (row==1 and col==1) or (row==0 and col==1) or (row==4 and col==4):\n",
    "          continue\n",
    "        return (row, col)"
   ]
  },
  {
   "cell_type": "markdown",
   "id": "394e3b66",
   "metadata": {},
   "source": [
    "## Play an episode"
   ]
  },
  {
   "cell_type": "code",
   "execution_count": null,
   "id": "ea7d8209",
   "metadata": {},
   "outputs": [],
   "source": [
    "def get_next(r,c, dir_cc): ### Heps in getting next cell based on direction\n",
    "  \n",
    "  dir = dir_cc\n",
    "\n",
    "  row = r\n",
    "  col = c\n",
    "\n",
    "  if dir == 'up': \n",
    "            if row-1>=0:\n",
    "                next_cell = (row-1, col)\n",
    "            else:\n",
    "                next_cell = (row, col)\n",
    "\n",
    "  elif dir == 'down':\n",
    "            if row+1<=len(gridworld)-1:\n",
    "                next_cell = (row+1, col)\n",
    "            else:\n",
    "                next_cell = (row, col)\n",
    "\n",
    "  elif dir == 'right':\n",
    "            if col+1<=len(gridworld[0])-1:\n",
    "                next_cell = (row, col+1)\n",
    "            else:\n",
    "                next_cell = (row, col)\n",
    "            \n",
    "\n",
    "  elif dir == 'left':\n",
    "            if col-1<0:\n",
    "                next_cell = (row,col)\n",
    "            else:\n",
    "                next_cell = (row, col-1)\n",
    "\n",
    "  return next_cell"
   ]
  },
  {
   "cell_type": "code",
   "execution_count": 226,
   "id": "18a88ba9",
   "metadata": {},
   "outputs": [],
   "source": [
    "def get_next_state(r, c, action):\n",
    "    if action == 'up':\n",
    "        return r-1, c\n",
    "    elif action == 'down':\n",
    "        return r+1, c\n",
    "    elif action == 'left':\n",
    "        return r, c-1\n",
    "    elif action == 'right':\n",
    "        return r, c+1\n",
    "    return r, c  # Default case, should not happen\n",
    "\n",
    "def valid_actions(r, c, grid_shape):\n",
    "    actions = ['up', 'down', 'left', 'right']\n",
    "    valid = []\n",
    "    for action in actions:\n",
    "        next_r, next_c = get_next_state(r, c, action)\n",
    "        if 0 <= next_r < grid_shape[0] and 0 <= next_c < grid_shape[1]:\n",
    "            if (next_r, next_c) not in [(0,1), (1,1)]:\n",
    "                valid.append(action)\n",
    "    return valid\n",
    "\n",
    "def epsilon_greedy(r, c, policy):\n",
    "\n",
    "    available_actions = valid_actions(r, c, gridworld.shape)\n",
    "    if not available_actions:\n",
    "        return None  # No valid actions available\n",
    "    if random.random() < 0.2:\n",
    "        # Exploration: choose a random action from valid actions\n",
    "        action = random.choice(available_actions)\n",
    "    else:\n",
    "        # Exploitation: choose the action from policy, but ensure it's valid\n",
    "        action = policy[(r,c)]\n",
    "\n",
    "    return action"
   ]
  },
  {
   "cell_type": "code",
   "execution_count": null,
   "id": "745ce526",
   "metadata": {},
   "outputs": [],
   "source": [
    "def play_episode(policy):\n",
    "    global W\n",
    "\n",
    "    current_cell = select_random_tuple()\n",
    "\n",
    "\n",
    "    epi_track = []\n",
    "\n",
    "    for i in range(L): \n",
    "        \n",
    "        row, col = current_cell\n",
    "\n",
    "        if current_cell == (4,4):\n",
    "            W = W+0.001*(10 - np.dot(W,np.array([4,4,1, 0, 0,0])))*np.array([4,4,1, 0, 0,0])\n",
    "            break  \n",
    "\n",
    "        dir = epsilon_greedy(row, col, policy)\n",
    "        \n",
    "        next_cell = get_next(row, col, dir)\n",
    "\n",
    "        state[row][col] = state[row][col]+alpha*(rewards[gridworld[row][col]]+gamma*state[next_cell[0]][next_cell[1]]- state[row][col])\n",
    "\n",
    "        y = state[row][col]\n",
    "\n",
    "        ###### Feature telling how many of the surrounding values are fire\n",
    "\n",
    "        fea_cnt = 0\n",
    "        if row-1>=0:\n",
    "            if rewards[gridworld[row-1][col]]==-10:\n",
    "                fea_cnt+=1\n",
    "        if row+1<=len(gridworld)-1:\n",
    "            if rewards[gridworld[row+1][col]]==-10:\n",
    "                fea_cnt+=1\n",
    "        if col+1<=len(gridworld[0])-1:\n",
    "            if rewards[gridworld[row][col+1]]==-10:\n",
    "                fea_cnt+=1\n",
    "        if col-1>=0:\n",
    "            if rewards[gridworld[row][col-1]]==-10:\n",
    "                fea_cnt+=1\n",
    "\n",
    "\n",
    "        if rewards[gridworld[row][col]] == -10:\n",
    "            phi = np.array([row, col, -1, fea_cnt,row-4, col-4])\n",
    "        elif rewards[gridworld[row][col]] == -1:\n",
    "            phi = np.array([row, col, 1, fea_cnt,col-4, col-4])\n",
    "\n",
    "        #### Update weights\n",
    "        W = W+0.002*(y-np.dot(W, phi))*phi\n",
    "\n",
    "        current_cell = next_cell\n",
    "\n",
    "    return epi_track"
   ]
  },
  {
   "cell_type": "markdown",
   "id": "ea6608ef",
   "metadata": {},
   "source": [
    "### Update policy"
   ]
  },
  {
   "cell_type": "code",
   "execution_count": 228,
   "id": "8db8bc70",
   "metadata": {},
   "outputs": [],
   "source": [
    "def update_policy(temp, policy):\n",
    "    for row in range(len(temp)):\n",
    "        for col in range(len(temp[0])):\n",
    "\n",
    "            if (row==4 and col==4):\n",
    "                continue\n",
    "\n",
    "            maxi = [-np.inf, None]\n",
    "\n",
    "            if row-1>=0 and rewards[gridworld[row][col]]+gamma*temp[row-1][col]>maxi[0]:\n",
    "                maxi =  [rewards[gridworld[row][col]]+gamma*temp[row-1][col], \"up\"] \n",
    "\n",
    "            if row+1<=len(temp)-1 and rewards[gridworld[row][col]]+gamma*temp[row+1][col]>maxi[0]:\n",
    "                maxi =  [rewards[gridworld[row][col]]+gamma*temp[row+1][col] , \"down\"]  \n",
    "\n",
    "            if col-1>=0 and rewards[gridworld[row][col]]+gamma*temp[row][col-1]>maxi[0]:\n",
    "                maxi =  [rewards[gridworld[row][col]]+gamma*temp[row][col-1], \"left\"]    \n",
    "                  \n",
    "            if col+1<=len(temp[0])-1 and rewards[gridworld[row][col]]+gamma*temp[row][col+1]>maxi[0]:\n",
    "                maxi =  [rewards[gridworld[row][col]]+gamma*temp[row][col+1], \"right\"] \n",
    "\n",
    "            policy[(row, col)] = maxi[1]\n",
    "\n",
    "    return policy"
   ]
  },
  {
   "cell_type": "code",
   "execution_count": 229,
   "id": "8abb79c8",
   "metadata": {},
   "outputs": [],
   "source": [
    "def check_policy_change(dict1, dict2):\n",
    "    if dict1.keys() != dict2.keys():\n",
    "        return \"No\"\n",
    "    for key in dict1.keys():\n",
    "        if dict1[key] != dict2[key]:\n",
    "            return \"No\"\n",
    "    return \"Yes\""
   ]
  },
  {
   "cell_type": "markdown",
   "id": "58bcd4e3",
   "metadata": {},
   "source": [
    "### Initialise policy"
   ]
  },
  {
   "cell_type": "code",
   "execution_count": 230,
   "id": "2c82326a",
   "metadata": {},
   "outputs": [
    {
     "data": {
      "image/png": "[encoded data removed]",
      "text/plain": [
       "<Figure size 500x500 with 1 Axes>"
      ]
     },
     "metadata": {},
     "output_type": "display_data"
    }
   ],
   "source": [
    "\n",
    "def get_valid_actions(row, col, grid_shape):\n",
    "    actions = ['up', 'down', 'left', 'right']\n",
    "    valid_actions = []\n",
    "    for action in actions:\n",
    "        new_row, new_col = row, col\n",
    "        if action == 'up' and row > 0:\n",
    "            new_row -= 1\n",
    "        elif action == 'down' and row < grid_shape[0] - 1:\n",
    "            new_row += 1\n",
    "        elif action == 'left' and col > 0:\n",
    "            new_col -= 1\n",
    "        elif action == 'right' and col < grid_shape[1] - 1:\n",
    "            new_col += 1\n",
    "        # Check if the new state is not (0,1) or (1,1)\n",
    "        if (new_row, new_col) not in [(0,1), (1,1)]:\n",
    "            valid_actions.append(action)\n",
    "    return valid_actions\n",
    "    \n",
    "def create_policy(gridworld):\n",
    "    policy = {}\n",
    "    for row in range(gridworld.shape[0]):\n",
    "        for col in range(gridworld.shape[1]):\n",
    "            if (row == 0 and col == 1) or (row == 1 and col == 1):\n",
    "                continue\n",
    "            valid_actions = get_valid_actions(row, col, gridworld.shape)\n",
    "            if valid_actions:\n",
    "                action = np.random.choice(valid_actions)\n",
    "                policy[(row, col)] = action\n",
    "    return policy\n",
    "\n",
    "policy = create_policy(gridworld)\n",
    "policy_visualize(policy, gridworld)"
   ]
  },
  {
   "cell_type": "markdown",
   "id": "4c25004d",
   "metadata": {},
   "source": [
    "### Hyperparameters\n"
   ]
  },
  {
   "cell_type": "code",
   "execution_count": null,
   "id": "9d5d0706",
   "metadata": {},
   "outputs": [],
   "source": [
    "L = 15\n",
    "alpha = 0.2\n",
    "gamma = 0.8\n",
    "thresh = 0.12\n",
    "\n",
    "\n",
    "state = np.zeros(gridworld.shape)\n",
    "state[4,4] = 10\n",
    "\n",
    "## initialise W\n",
    "W = np.random.normal(0, 1, 6)\n",
    "Wo = W"
   ]
  },
  {
   "cell_type": "code",
   "execution_count": 233,
   "id": "0e9bf02b",
   "metadata": {},
   "outputs": [
    {
     "name": "stdout",
     "output_type": "stream",
     "text": [
      "[ 0.32814779 -2.72380537  5.68840388 -0.33826965  0.08883427  2.60704715]\n",
      "[ 0.3283632  -2.72380537  5.68850196 -0.33805424  0.08844194  2.60665483]\n",
      "0.0006405186345846841\n",
      "converged W 2489\n"
     ]
    }
   ],
   "source": [
    "loss = []\n",
    "for m in range(50000):\n",
    "    d = {}\n",
    "\n",
    "    ep = play_episode(policy)\n",
    "    \n",
    "    #policy = update_policy(state, policy)\n",
    "    d = np.linalg.norm(W-Wo)\n",
    "    loss.append(d)\n",
    "    if d < 0.001:\n",
    "        print(W)\n",
    "        print(Wo)\n",
    "        print(d)\n",
    "        print(\"converged W\", m)\n",
    "        break\n",
    "\n",
    "    Wo = W"
   ]
  },
  {
   "cell_type": "markdown",
   "id": "cdc49fce",
   "metadata": {},
   "source": [
    "### Using Estimates to predict values of states"
   ]
  },
  {
   "cell_type": "code",
   "execution_count": 234,
   "id": "136cb21d",
   "metadata": {},
   "outputs": [],
   "source": [
    "new_sv = np.zeros(gridworld.shape)\n",
    "new_sv[4,4]=10\n",
    "\n",
    "for i in range(5):\n",
    "  for j in range(5):\n",
    "\n",
    "        fea_cnt = 0\n",
    "        if i-1>=0:\n",
    "            if rewards[gridworld[i-1][j]]==-10:\n",
    "                fea_cnt+=1\n",
    "        if i+1<=len(gridworld)-1:\n",
    "            if rewards[gridworld[i+1][j]]==-10:\n",
    "                fea_cnt+=1\n",
    "        if j+1<=len(gridworld[0])-1:\n",
    "            if rewards[gridworld[i][j+1]]==-10:\n",
    "                fea_cnt+=1\n",
    "        if j-1>=0:\n",
    "            if rewards[gridworld[i][j-1]]==-10:\n",
    "                fea_cnt+=1\n",
    "        if rewards[gridworld[i,j]] == -10:\n",
    "          vec = np.array([i, j, -1, fea_cnt,i-4,j-4])\n",
    "        elif rewards[gridworld[i,j]] == -1:\n",
    "          vec = np.array([i, j, 1, fea_cnt, i-4,j-4])\n",
    "        if i==4 and j==4:\n",
    "          continue\n",
    "        new_sv[i,j] = np.dot(W,vec)\n",
    "\n",
    "\n",
    "new_policy = update_policy(new_sv, policy)\n"
   ]
  },
  {
   "cell_type": "code",
   "execution_count": 235,
   "id": "af275e55",
   "metadata": {},
   "outputs": [
    {
     "data": {
      "image/png": "[encoded data removed]",
      "text/plain": [
       "<Figure size 500x500 with 1 Axes>"
      ]
     },
     "metadata": {},
     "output_type": "display_data"
    }
   ],
   "source": [
    "policy_visualize(new_policy, gridworld) "
   ]
  }
 ],
 "metadata": {
  "kernelspec": {
   "display_name": "base",
   "language": "python",
   "name": "python3"
  },
  "language_info": {
   "codemirror_mode": {
    "name": "ipython",
    "version": 3
   },
   "file_extension": ".py",
   "mimetype": "text/x-python",
   "name": "python",
   "nbconvert_exporter": "python",
   "pygments_lexer": "ipython3",
   "version": "3.12.4"
  }
 },
 "nbformat": 4,
 "nbformat_minor": 5
}
