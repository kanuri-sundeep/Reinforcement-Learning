{
 "cells": [
  {
   "cell_type": "code",
   "execution_count": 1,
   "id": "087e153d",
   "metadata": {},
   "outputs": [],
   "source": [
    "import numpy as np\n",
    "from matplotlib.colors import LinearSegmentedColormap\n",
    "import matplotlib.pyplot as plt\n",
    "import random\n",
    "from collections import defaultdict\n",
    "import matplotlib.patches as patches"
   ]
  },
  {
   "cell_type": "code",
   "execution_count": 2,
   "id": "103b22c5",
   "metadata": {},
   "outputs": [],
   "source": [
    "gridworld = np.array([\n",
    "    ['R', 'R', 'H', 'R', 'R'],\n",
    "    ['R', 'H', 'H', 'R', 'R'],\n",
    "    ['R', 'R', 'H', 'H', 'R'],\n",
    "    ['R', 'H', 'R', 'H', 'R'],\n",
    "    ['R', 'R', 'R', 'R', 'G']\n",
    "])\n",
    "\n",
    "rewards = {\n",
    "\n",
    "    'G': 10,\n",
    "    'H': -10,\n",
    "    'R': -1\n",
    "\n",
    "}"
   ]
  },
  {
   "cell_type": "code",
   "execution_count": 3,
   "id": "781177e3",
   "metadata": {},
   "outputs": [
    {
     "data": {
      "image/png": "[encoded data removed]",
      "text/plain": [
       "<Figure size 400x400 with 1 Axes>"
      ]
     },
     "metadata": {},
     "output_type": "display_data"
    }
   ],
   "source": [
    "fig, ax = plt.subplots(figsize=(4, 4))\n",
    "# Create a color map\n",
    "# Create a color map with lighter colors\n",
    "color_map = {'H': '#FF0000',  # Darker red\n",
    "             'G': '#BAFFC9',  # Light green\n",
    "             'R': '#BAE1FF'}  # Light blue\n",
    "# Iterate through the grid and color cells\n",
    "for (i, j), value in np.ndenumerate(gridworld):\n",
    "    color = color_map[value]\n",
    "    ax.add_patch(plt.Rectangle((j, 4-i), 1, 1, fill=True, color=color))\n",
    "\n",
    "# Set the limits of the plot\n",
    "\n",
    "ax.set_xlim(0, 5)\n",
    "ax.set_ylim(0, 5)\n",
    "# Remove the axes\n",
    "ax.set_axis_off()\n",
    "# Add grid lines\n",
    "ax.grid(which='major', axis='both', linestyle='-', color='gray', linewidth=1)\n",
    "# Add text labels to each cell\n",
    "\n",
    "for (i, j), value in np.ndenumerate(gridworld):\n",
    "    # Use white text for red cells, black for others\n",
    "    text_color = 'white' if value == 'H' else 'black'\n",
    "    ax.text(j + 0.5, 4 - i + 0.5, value, ha='center', va='center', fontsize=20, color=text_color)\n",
    "# Set the title\n",
    "# plt.title('Gridworld Visualization', fontsize=16)\n",
    "# Show the plot\n",
    "plt.tight_layout()\n",
    "plt.show()"
   ]
  },
  {
   "cell_type": "code",
   "execution_count": 4,
   "id": "53ce1ae3",
   "metadata": {},
   "outputs": [],
   "source": [
    "def policy_visualize(policy, gridworld):\n",
    "    fig, ax = plt.subplots(figsize=(5, 5))\n",
    "    # Set the limits of the plot\n",
    "    ax.set_xlim(0, 5)\n",
    "    ax.set_ylim(5, 0)  # Reversed y-axis\n",
    "    # Remove ticks\n",
    "    ax.set_xticks([])\n",
    "    ax.set_yticks([])\n",
    "    # Draw grid lines\n",
    "    for i in range(6):\n",
    "        ax.axhline(y=i, color='gray', linestyle='-', linewidth=0.5)\n",
    "        ax.axvline(x=i, color='gray', linestyle='-', linewidth=0.5)\n",
    "    # Dictionary to map directions to arrow symbols\n",
    "    direction_to_arrow = {\n",
    "        'up': '↑',\n",
    "        'down': '↓',\n",
    "        'left': '←',\n",
    "        'right': '→'\n",
    "    }\n",
    "    # Color mapping\n",
    "    color_map = {'H': 'red', 'R': 'lightblue', 'G': 'lightgreen'}\n",
    "    # Plot arrows and cell coordinates for each cell\n",
    "    for y in range(5):\n",
    "        for x in range(5):\n",
    "            # Color the cell based on gridworld\n",
    "            cell_type = gridworld[y, x]\n",
    "            rect = patches.Rectangle((x, y), 1, 1, facecolor=color_map[cell_type])\n",
    "            ax.add_patch(rect)\n",
    "            # Plot cell coordinates\n",
    "            ax.text(x + 0.1, y + 0.2, f'{y},{x}', ha='left', va='top', fontsize=10)\n",
    "            # Plot arrow if the cell is in the policy and not (4,4)\n",
    "            if (y, x) in policy and (y, x) != (4, 4):\n",
    "                direction = policy[(y, x)]\n",
    "                if direction in direction_to_arrow:\n",
    "                    arrow = direction_to_arrow[direction]\n",
    "                    ax.text(x + 0.5, y + 0.6, arrow, ha='center', va='center', fontsize=8)\n",
    "    # Show the plot\n",
    "    plt.title(\"Policy Visualization with Cell Coordinates\")\n",
    "    plt.tight_layout()\n",
    "    plt.show()"
   ]
  },
  {
   "cell_type": "markdown",
   "id": "c2df83de",
   "metadata": {},
   "source": [
    "### Start cell of an episode"
   ]
  },
  {
   "cell_type": "code",
   "execution_count": 78,
   "id": "e603091e",
   "metadata": {},
   "outputs": [],
   "source": [
    "terminal_state = (4, 4)\n",
    "\n",
    "rows = 5\n",
    "cols = 5\n",
    "\n",
    "# Function to select a random tuple from the grid, excluding the terminal state\n",
    "def select_random_tuple():\n",
    "    while True:\n",
    "        # Generate random row and column indices\n",
    "        row = random.randint(0, rows - 1)\n",
    "        col = random.randint(0, cols - 1)\n",
    "        # Check if the generated tuple is not the terminal state\n",
    "        if (row, col) != terminal_state:\n",
    "            return (row, col)\n",
    "# Example usage"
   ]
  },
  {
   "cell_type": "markdown",
   "id": "394e3b66",
   "metadata": {},
   "source": [
    "## Play an episode"
   ]
  },
  {
   "cell_type": "code",
   "execution_count": 79,
   "id": "ea7d8209",
   "metadata": {},
   "outputs": [],
   "source": [
    "import random\n",
    "\n",
    "def get_next(r,c, dir_cc):\n",
    "  \n",
    "  dir = dir_cc\n",
    "\n",
    "  row = r\n",
    "  col = c\n",
    "\n",
    "  if dir == 'up': \n",
    "            if row-1>=0:\n",
    "                next_cell = (row-1, col)\n",
    "            else:\n",
    "                next_cell = (row, col)\n",
    "\n",
    "  elif dir == 'down':\n",
    "            if row+1<=len(gridworld)-1:\n",
    "                next_cell = (row+1, col)\n",
    "            else:\n",
    "                next_cell = (row, col)\n",
    "\n",
    "  elif dir == 'right':\n",
    "            if col+1<=len(gridworld[0])-1:\n",
    "                next_cell = (row, col+1)\n",
    "            else:\n",
    "                next_cell = (row, col)\n",
    "            \n",
    "\n",
    "  elif dir == 'left':\n",
    "            if col-1<0:\n",
    "                next_cell = (row,col)\n",
    "            else:\n",
    "                next_cell = (row, col-1)\n",
    "\n",
    "  return next_cell"
   ]
  },
  {
   "cell_type": "code",
   "execution_count": 91,
   "id": "745ce526",
   "metadata": {},
   "outputs": [],
   "source": [
    "def play_episode(policy):\n",
    "\n",
    "    current_cell = select_random_tuple()\n",
    "    \n",
    "    epi_track = []\n",
    "    dir_cc = policy[(current_cell[0], current_cell[1])]\n",
    "\n",
    "    for i in range(L): \n",
    "        row, col = current_cell\n",
    "\n",
    "        if current_cell == (4,4):\n",
    "            break  \n",
    "\n",
    "        next_cell = get_next(row, col, dir_cc)\n",
    "\n",
    "        max_val = -np.inf\n",
    "        d_ = 'None'\n",
    "\n",
    "        if random.random()<0.2:\n",
    "             d_ = np.random.choice(['up', 'down', 'left', 'right'])\n",
    "\n",
    "        else:\n",
    "            for l in [\"left\", \"right\", \"up\", \"down\"]:\n",
    "                if qv[((row, col), l)]>max_val:\n",
    "                    max_val = qv[((row, col), l)]\n",
    "                    d_ = l\n",
    "\n",
    "        qv[((row, col), dir_cc)] = qv[((row, col), dir_cc)]+alpha*(rewards[gridworld[row][col]]+gamma*qv[((next_cell[0], next_cell[1]), d_)]- qv[((row, col), dir_cc)])\n",
    "\n",
    "        current_cell = next_cell\n",
    "        dir_cc = d_\n",
    "\n",
    "    return epi_track"
   ]
  },
  {
   "cell_type": "markdown",
   "id": "ea6608ef",
   "metadata": {},
   "source": [
    "### Update policy"
   ]
  },
  {
   "cell_type": "code",
   "execution_count": 92,
   "id": "8db8bc70",
   "metadata": {},
   "outputs": [],
   "source": [
    "def update_policy(policy):\n",
    "    for row in range(len(gridworld)):\n",
    "        for col in range(len(gridworld[0])):\n",
    "\n",
    "            if row==4 and col==4:\n",
    "                continue\n",
    "\n",
    "            maxi = [-np.inf, None]\n",
    "\n",
    "            if row-1>=0 and qv[((row, col), \"up\")]>maxi[0]:\n",
    "                maxi =  [qv[((row, col), \"up\")], \"up\"] \n",
    "\n",
    "            if row+1<=len(gridworld)-1 and qv[((row, col), \"down\")]>maxi[0]:\n",
    "                maxi =  [qv[((row, col), \"down\")], \"down\"]  \n",
    "\n",
    "            if col-1>=0 and qv[((row, col), \"left\")]>maxi[0]:\n",
    "                maxi =  [qv[((row, col), \"left\")], \"left\"]    \n",
    "                  \n",
    "            if col+1<=len(gridworld[0])-1 and qv[((row, col), \"right\")]>maxi[0]:\n",
    "                maxi =  [qv[((row, col), \"right\")], \"right\"] \n",
    "\n",
    "            policy[(row, col)] = maxi[1]\n",
    "\n",
    "    return policy"
   ]
  },
  {
   "cell_type": "code",
   "execution_count": 93,
   "id": "8abb79c8",
   "metadata": {},
   "outputs": [],
   "source": [
    "def check_policy_change(dict1, dict2):\n",
    "    if dict1.keys() != dict2.keys():\n",
    "        return \"No\"\n",
    "    for key in dict1.keys():\n",
    "        if dict1[key] != dict2[key]:\n",
    "            return \"No\"\n",
    "    return \"Yes\""
   ]
  },
  {
   "cell_type": "markdown",
   "id": "58bcd4e3",
   "metadata": {},
   "source": [
    "### Initialise policy"
   ]
  },
  {
   "cell_type": "code",
   "execution_count": 97,
   "id": "2c82326a",
   "metadata": {},
   "outputs": [
    {
     "data": {
      "image/png": "[encoded data removed]",
      "text/plain": [
       "<Figure size 500x500 with 1 Axes>"
      ]
     },
     "metadata": {},
     "output_type": "display_data"
    }
   ],
   "source": [
    "policy = {}\n",
    "for row in range(gridworld.shape[0]):\n",
    "  for col in range(gridworld.shape[1]):\n",
    "    action = np.random.choice(['up', 'down', 'left', 'right'])\n",
    "    policy[(row, col)] = action\n",
    "policy_visualize(policy, gridworld)"
   ]
  },
  {
   "cell_type": "code",
   "execution_count": 98,
   "id": "9d5d0706",
   "metadata": {},
   "outputs": [],
   "source": [
    "L = 10\n",
    "alpha = 0.2\n",
    "gamma = 0.8\n",
    "\n",
    "qv = {}\n",
    "for i in range(gridworld.shape[0]):\n",
    "  for j in range(gridworld.shape[1]):\n",
    "    for k in [\"left\", \"right\", \"up\", \"down\"]:\n",
    "      if i==4 and j==4:\n",
    "        qv[((i,j),k)] = 10\n",
    "      else:\n",
    "        qv[((i,j),k)] = 0"
   ]
  },
  {
   "cell_type": "code",
   "execution_count": 99,
   "id": "0e9bf02b",
   "metadata": {},
   "outputs": [
    {
     "name": "stdout",
     "output_type": "stream",
     "text": [
      "converged after  13 iterations\n"
     ]
    },
    {
     "data": {
      "image/png": "[encoded data removed]",
      "text/plain": [
       "<Figure size 500x500 with 1 Axes>"
      ]
     },
     "metadata": {},
     "output_type": "display_data"
    }
   ],
   "source": [
    "for m in range(90):\n",
    "    d = {}\n",
    "\n",
    "    old_policy = policy.copy()\n",
    "\n",
    "    for n in range(100):\n",
    "\n",
    "        ep = play_episode(policy)\n",
    "        \n",
    "    policy = update_policy(policy)\n",
    "\n",
    "    if check_policy_change(old_policy, policy) == 'Yes':\n",
    "        print(\"converged after \", m, \"iterations\")\n",
    "        break\n",
    "\n",
    "\n",
    "policy_visualize(policy, gridworld)"
   ]
  },
  {
   "cell_type": "code",
   "execution_count": null,
   "id": "8b0a3a2e",
   "metadata": {},
   "outputs": [],
   "source": []
  }
 ],
 "metadata": {
  "kernelspec": {
   "display_name": "base",
   "language": "python",
   "name": "python3"
  },
  "language_info": {
   "codemirror_mode": {
    "name": "ipython",
    "version": 3
   },
   "file_extension": ".py",
   "mimetype": "text/x-python",
   "name": "python",
   "nbconvert_exporter": "python",
   "pygments_lexer": "ipython3",
   "version": "3.12.4"
  }
 },
 "nbformat": 4,
 "nbformat_minor": 5
}
