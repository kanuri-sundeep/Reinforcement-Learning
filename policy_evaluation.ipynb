{
 "cells": [
  {
   "cell_type": "code",
   "execution_count": 1,
   "id": "132abca2",
   "metadata": {},
   "outputs": [],
   "source": [
    "import numpy as np\n",
    "from matplotlib.colors import LinearSegmentedColormap\n",
    "import matplotlib.pyplot as plt"
   ]
  },
  {
   "cell_type": "code",
   "execution_count": null,
   "id": "c1d8d3ac",
   "metadata": {},
   "outputs": [],
   "source": [
    "gridworld = np.array([\n",
    "    ['R', 'R', 'H', 'R', 'R'],\n",
    "    ['R', 'H', 'H', 'R', 'R'],\n",
    "    ['R', 'R', 'H', 'H', 'R'],\n",
    "    ['R', 'H', 'R', 'H', 'R'],\n",
    "    ['R', 'R', 'R', 'R', 'G']\n",
    "])\n",
    "\n",
    "\n",
    "rewards = {\n",
    "\n",
    "    'G': 10,\n",
    "    'H': -10,\n",
    "    'R': -1\n",
    "\n",
    "}"
   ]
  },
  {
   "cell_type": "markdown",
   "id": "7cac6e55",
   "metadata": {},
   "source": [
    "# Visualise"
   ]
  },
  {
   "cell_type": "markdown",
   "id": "4813f6f8",
   "metadata": {},
   "source": [
    "#### visualise grid world"
   ]
  },
  {
   "cell_type": "code",
   "execution_count": 5,
   "id": "c344cc95",
   "metadata": {},
   "outputs": [
    {
     "data": {
      "image/png": "[encoded data removed]",
      "text/plain": [
       "<Figure size 300x300 with 1 Axes>"
      ]
     },
     "metadata": {},
     "output_type": "display_data"
    }
   ],
   "source": [
    "\n",
    "fig, ax = plt.subplots(figsize=(3,3))\n",
    "# Create a color map\n",
    "# Create a color map with lighter colors\n",
    "color_map = {'H': '#FF0000',  # Darker red\n",
    "             'G': '#BAFFC9',  # Light green\n",
    "             'R': '#BAE1FF'}  # Light blue\n",
    "# Iterate through the grid and color cells\n",
    "for (i, j), value in np.ndenumerate(gridworld):\n",
    "    color = color_map[value]\n",
    "    ax.add_patch(plt.Rectangle((j, 4-i), 1, 1, fill=True, color=color))\n",
    "# Set the limits of the plot\n",
    "ax.set_xlim(0, 5)\n",
    "ax.set_ylim(0, 5)\n",
    "# Remove the axes\n",
    "ax.set_axis_off()\n",
    "# Add grid lines\n",
    "ax.grid(which='major', axis='both', linestyle='-', color='gray', linewidth=1)\n",
    "# Add text labels to each cell\n",
    "\n",
    "for (i, j), value in np.ndenumerate(gridworld):\n",
    "    # Use white text for red cells, black for others\n",
    "    text_color = 'white' if value == 'H' else 'black'\n",
    "    ax.text(j + 0.5, 4 - i + 0.5, value, ha='center', va='center', fontsize=20, color=text_color)\n",
    "# Set the title\n",
    "# plt.title('Gridworld Visualization', fontsize=16)\n",
    "# Show the plot\n",
    "plt.tight_layout()\n",
    "plt.show()"
   ]
  },
  {
   "cell_type": "code",
   "execution_count": 15,
   "id": "202d3454",
   "metadata": {},
   "outputs": [],
   "source": [
    "def visualize_gridworld(gridworld, state_values):\n",
    "    # Create a figure and axis\"\n",
    "    fig, ax = plt.subplots(figsize=(4, 4))\n",
    "    # Create a color map with darker red and lighter green and blue\n",
    "    color_map = {'H': '#FF0000',  # Darker red\n",
    "                 'G': '#BAFFC9',  # Light green\n",
    "                 'R': '#BAE1FF'}  # Light blue\n",
    "    # Iterate through the grid and color cells\n",
    "    for (i, j), value in np.ndenumerate(gridworld):\n",
    "        color = color_map[value]\n",
    "        ax.add_patch(plt.Rectangle((j, 4-i), 1, 1, fill=True, color=color))\n",
    "    # Function to get the maximum neighbor value and direction\n",
    "    def get_max_neighbor(i, j):\n",
    "        neighbors = [\n",
    "            (i-1, j, '↑'),  # up\n",
    "            (i+1, j, '↓'),  # down\n",
    "            (i, j-1, '←'),  # left\n",
    "            (i, j+1, '→')   # right\n",
    "        ]\n",
    "        max_value = float('-inf')\n",
    "        max_direction = ''\n",
    "        for ni, nj, direction in neighbors:\n",
    "            if 0 <= ni < 5 and 0 <= nj < 5:\n",
    "                if state_values[ni, nj] > max_value:\n",
    "                    max_value = state_values[ni, nj]\n",
    "                    max_direction = direction\n",
    "        return max_direction\n",
    "    # Add text labels and arrows to each cell\n",
    "    for (i, j), value in np.ndenumerate(gridworld):\n",
    "        # Skip the bottom-right cell\n",
    "        if i == 4 and j == 4:\n",
    "            continue\n",
    "        # Use white text for red cells, black for others\n",
    "        text_color = 'white' if value == 'H' else 'black'\n",
    "        state_value = state_values[i, j]\n",
    "        # Get the direction of the maximum neighbor\n",
    "        arrow = get_max_neighbor(i, j)\n",
    "        # Add the state value and arrow to the cell\n",
    "        ax.text(j + 0.5, 4 - i + 0.5, f'{state_value:.2f}\\n{arrow}',\n",
    "                ha='center', va='center', fontsize=12, color=text_color)\n",
    "    # Set the limits of the plot\n",
    "    ax.set_xlim(0, 5)\n",
    "    ax.set_ylim(0, 5)\n",
    "    # Remove the axes\n",
    "    ax.set_axis_off()\n",
    "    # Add grid lines\n",
    "    ax.grid(which='major', axis='both', linestyle='-', color='gray', linewidth=1)\n",
    "    # Set the title\n",
    "    plt.title('Gridworld with policy', fontsize=8)\n",
    "    # Adjust the layout\n",
    "    plt.tight_layout()\n",
    "    # Display the plot\n",
    "    plt.show()"
   ]
  },
  {
   "cell_type": "markdown",
   "id": "b5938f65",
   "metadata": {},
   "source": [
    "### Initial policy"
   ]
  },
  {
   "cell_type": "code",
   "execution_count": 117,
   "id": "083e9b84",
   "metadata": {},
   "outputs": [],
   "source": [
    "gamma = 0.6\n",
    "\n",
    "policy = {}\n",
    "\n",
    "for row in range(gridworld.shape[0]):\n",
    "  for col in range(gridworld.shape[1]):\n",
    "    policy[(row, col)] = {\n",
    "    'up': 0.25,\n",
    "    'down': 0.25,\n",
    "    'left': 0.25,\n",
    "    'right': 0.25\n",
    "}\n",
    "\n",
    "\n",
    "state_values = np.zeros(gridworld.shape)\n",
    "state_values[4,4] = 10"
   ]
  },
  {
   "cell_type": "markdown",
   "id": "3724fb8b",
   "metadata": {},
   "source": [
    "Check for values in surrounding states"
   ]
  },
  {
   "cell_type": "code",
   "execution_count": 118,
   "id": "f44f81b8",
   "metadata": {},
   "outputs": [],
   "source": [
    "def find_value(row, col, state_values, direction):\n",
    "    if direction == 'up' and row - 1 >= 0:\n",
    "        return state_values[row - 1][col]\n",
    "    elif direction == 'down' and row + 1 < len(state_values):\n",
    "        return state_values[row + 1][col]\n",
    "    elif direction == 'left' and col - 1 >= 0:\n",
    "        return state_values[row][col - 1]\n",
    "    elif direction == 'right' and col + 1 < len(state_values[0]):\n",
    "        return state_values[row][col + 1]\n",
    "    else:\n",
    "        return 0"
   ]
  },
  {
   "cell_type": "markdown",
   "id": "611fa0c8",
   "metadata": {},
   "source": [
    "#### Policy evaluation"
   ]
  },
  {
   "cell_type": "code",
   "execution_count": 120,
   "id": "4731c06b",
   "metadata": {},
   "outputs": [],
   "source": [
    "import copy\n",
    "def policy_evaluation(state_values, iterations):\n",
    "    temp = copy.deepcopy(state_values)\n",
    "    for i in range(iterations):\n",
    "        delta = 0\n",
    "        \n",
    "        for row in range(len(state_values)):\n",
    "            for col in range(len(state_values[0])):\n",
    "                val = 0\n",
    "                if (row, col) == (4,4):\n",
    "                    continue\n",
    "                for dir, pr in policy[(row, col)].items():\n",
    "                        val+=pr*(rewards[gridworld[row][col]]+gamma*find_value(row, col, state_values, dir))\n",
    "                temp[row][col] = val\n",
    "                delta = max(delta, abs(val- state_values[row][col]))\n",
    "        if delta<0.001:\n",
    "            print(\"converged after \", i, \"iteration\")\n",
    "            return temp\n",
    "        \n",
    "        state_values = copy.deepcopy(temp)\n",
    "\n",
    "    return temp"
   ]
  },
  {
   "cell_type": "markdown",
   "id": "726ebba6",
   "metadata": {},
   "source": [
    "### Policy updation"
   ]
  },
  {
   "cell_type": "code",
   "execution_count": 122,
   "id": "68337e16",
   "metadata": {},
   "outputs": [],
   "source": [
    "def update_policy(temp, policy):\n",
    "    for row in range(len(temp)):\n",
    "        for col in range(len(temp[0])):\n",
    "\n",
    "            maxi = [-np.inf, None]\n",
    "\n",
    "            if row-1>=0 and temp[row-1][col]>maxi[0]:\n",
    "                maxi =  [temp[row-1][col], \"up\"]  \n",
    "            if row+1<=len(temp)-1 and temp[row+1][col]>maxi[0]:\n",
    "                maxi =  [temp[row+1][col] , \"down\"]  \n",
    "            if col-1>=0 and temp[row][col-1]>maxi[0]:\n",
    "                maxi =  [temp[row][col-1], \"left\"]      \n",
    "            if col+1<=len(temp[0])-1 and temp[row][col+1]>maxi[0]:\n",
    "                maxi =  [temp[row][col+1], \"right\"] \n",
    "\n",
    "            policy[(row, col)] = {maxi[1] : 1}  \n",
    "\n",
    "    return policy"
   ]
  },
  {
   "cell_type": "code",
   "execution_count": 123,
   "id": "686fe74c",
   "metadata": {},
   "outputs": [],
   "source": [
    "def check_policy_change(dict1, dict2):\n",
    "    if dict1.keys() != dict2.keys():\n",
    "        return \"No\"\n",
    "    for key in dict1.keys():\n",
    "        if dict1[key] != dict2[key]:\n",
    "            return \"No\"\n",
    "    return \"Yes\""
   ]
  },
  {
   "cell_type": "code",
   "execution_count": 124,
   "id": "99470744",
   "metadata": {},
   "outputs": [
    {
     "name": "stdout",
     "output_type": "stream",
     "text": [
      "converged after  14 iteration\n",
      "converged after  15 iteration\n",
      "converged after  2 iteration\n",
      "converged after  2 iteration\n",
      "converged after  1 iteration\n",
      "converged after  2 iteration\n",
      "converged after  3 iteration\n",
      "done in 6 iterations\n"
     ]
    }
   ],
   "source": [
    "for i in range(7):\n",
    "    state_values = policy_evaluation(state_values, 800)\n",
    "    old_policy = policy.copy()\n",
    "    policy = update_policy(state_values, policy)\n",
    "    if check_policy_change(old_policy, policy) == 'Yes':\n",
    "        print(\"done in\", i, \"iterations\")\n",
    "        break"
   ]
  },
  {
   "cell_type": "code",
   "execution_count": 125,
   "id": "c97c0ffd",
   "metadata": {},
   "outputs": [
    {
     "data": {
      "image/png": "[encoded data removed]",
      "text/plain": [
       "<Figure size 400x400 with 1 Axes>"
      ]
     },
     "metadata": {},
     "output_type": "display_data"
    }
   ],
   "source": [
    "visualize_gridworld(gridworld, state_values)"
   ]
  },
  {
   "cell_type": "markdown",
   "id": "15a0bb77",
   "metadata": {},
   "source": []
  }
 ],
 "metadata": {
  "kernelspec": {
   "display_name": "base",
   "language": "python",
   "name": "python3"
  },
  "language_info": {
   "codemirror_mode": {
    "name": "ipython",
    "version": 3
   },
   "file_extension": ".py",
   "mimetype": "text/x-python",
   "name": "python",
   "nbconvert_exporter": "python",
   "pygments_lexer": "ipython3",
   "version": "3.12.4"
  }
 },
 "nbformat": 4,
 "nbformat_minor": 5
}
